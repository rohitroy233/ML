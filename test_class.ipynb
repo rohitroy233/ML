{
 "cells": [
  {
   "cell_type": "code",
   "execution_count": 1,
   "id": "living-condition",
   "metadata": {},
   "outputs": [],
   "source": [
    "import spacy\n",
    "import json\n"
   ]
  },
  {
   "cell_type": "code",
   "execution_count": 2,
   "id": "yellow-class",
   "metadata": {},
   "outputs": [],
   "source": [
    "test_data=[\n",
    "    (\"Chapter 3 - Agreement Terms\"),\n",
    "    (\"Appendix J: Definitions\"),\n",
    "    (\"This document is a binding agreement.\"),\n",
    "    (\"Table of Contents: Chapter 4 - Conclusion\"),\n",
    "    (\"Below section gives related Documents\"),\n",
    "    (\"Document Title: User Agreement\"),\n",
    "    (\"Recitals provide background information.\"),\n",
    "]"
   ]
  },
  {
   "cell_type": "code",
   "execution_count": 3,
   "id": "threaded-northeast",
   "metadata": {},
   "outputs": [],
   "source": [
    "text=test_data[4]"
   ]
  },
  {
   "cell_type": "code",
   "execution_count": 4,
   "id": "intended-cassette",
   "metadata": {},
   "outputs": [
    {
     "name": "stdout",
     "output_type": "stream",
     "text": [
      "Below section gives related Documents\n"
     ]
    }
   ],
   "source": [
    "print(text)"
   ]
  },
  {
   "cell_type": "code",
   "execution_count": 5,
   "id": "artificial-arrival",
   "metadata": {
    "scrolled": true
   },
   "outputs": [],
   "source": [
    "nlp = spacy.load(\"output4/model-last\")"
   ]
  },
  {
   "cell_type": "code",
   "execution_count": 6,
   "id": "political-placement",
   "metadata": {},
   "outputs": [],
   "source": [
    "doc = nlp(text)"
   ]
  },
  {
   "cell_type": "code",
   "execution_count": 7,
   "id": "aggressive-symphony",
   "metadata": {},
   "outputs": [
    {
     "name": "stdout",
     "output_type": "stream",
     "text": [
      "{'recitals': 0.4232914447784424, 'title': 0.5765801668167114, 'appendix': 0.43462327122688293}\n"
     ]
    }
   ],
   "source": [
    "print (doc.cats)"
   ]
  },
  {
   "cell_type": "code",
   "execution_count": null,
   "id": "silent-paintball",
   "metadata": {},
   "outputs": [],
   "source": []
  }
 ],
 "metadata": {
  "kernelspec": {
   "display_name": "Python 3",
   "language": "python",
   "name": "python3"
  },
  "language_info": {
   "codemirror_mode": {
    "name": "ipython",
    "version": 3
   },
   "file_extension": ".py",
   "mimetype": "text/x-python",
   "name": "python",
   "nbconvert_exporter": "python",
   "pygments_lexer": "ipython3",
   "version": "3.11.5"
  }
 },
 "nbformat": 4,
 "nbformat_minor": 5
}
