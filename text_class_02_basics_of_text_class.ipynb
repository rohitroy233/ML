{
 "cells": [
  {
   "cell_type": "code",
   "execution_count": 18,
   "id": "metallic-sally",
   "metadata": {},
   "outputs": [],
   "source": [
    "from spacy.tokens import DocBin\n",
    "\n",
    "import spacy"
   ]
  },
  {
   "cell_type": "code",
   "execution_count": null,
   "id": "brazilian-vertical",
   "metadata": {},
   "outputs": [],
   "source": []
  },
  {
   "cell_type": "code",
   "execution_count": 19,
   "id": "dbc862f7",
   "metadata": {},
   "outputs": [
    {
     "name": "stdout",
     "output_type": "stream",
     "text": [
      "('The preamble section contains introductory information.', 'recitals')\n"
     ]
    }
   ],
   "source": [
    "\n",
    "train_data = [\n",
    "(\"The preamble section contains introductory information.\", \"recitals\"),\n",
    "    (\"Document Title: Legal Agreement\", \"title\"),\n",
    "    (\"Appendix D includes terms and conditions.\", \"appendix\"),\n",
    "    (\"Recitals provide context for the agreement.\", \"recitals\"),\n",
    "    (\"Table of Contents: Chapter 1 - Introduction\", \"title\"),\n",
    "    (\"Appendix E: Frequently Asked Questions\", \"appendix\"),\n",
    "    (\"Title: Terms of Service\", \"title\"),\n",
    "    (\"Recital: Parties agree to the following terms.\", \"recitals\"),\n",
    "    (\"Appendix F has additional guidelines.\", \"appendix\"),\n",
    "    (\"The main title of the document is 'Contract Agreement'.\", \"title\"),\n",
    "     (\"The following recitals are provided:\", \"recitals\"),\n",
    "    (\"Chapter 1 - Introduction\", \"title\"),\n",
    "    (\"Appendix B: Glossary of Terms\", \"appendix\"),\n",
    "    (\"Recital: This agreement is entered into\", \"recitals\"),\n",
    "    (\"Table of Contents\", \"title\"),\n",
    "    (\"Appendix C: References\", \"appendix\"),\n",
    "    (\"Title Page\", \"title\"),\n",
    "    (\"Recitals are important in this context.\", \"recitals\"),\n",
    " \n",
    "]\n",
    "\n",
    "print (train_data[0])"
   ]
  },
  {
   "cell_type": "code",
   "execution_count": 20,
   "id": "stunning-certificate",
   "metadata": {},
   "outputs": [],
   "source": [
    "\n",
    "def make_docs(data):\n",
    "    docs = []\n",
    "    for doc, label in nlp.pipe(data, as_tuples=True):\n",
    "        if label == \"recitals\":\n",
    "            doc.cats[\"recitals\"] = 1\n",
    "            doc.cats[\"title\"] = 0\n",
    "            doc.cats[\"appendix\"] = 0\n",
    "        elif label == \"title\":\n",
    "            doc.cats[\"recitals\"] = 0\n",
    "            doc.cats[\"title\"] = 1\n",
    "            doc.cats[\"appendix\"] = 0\n",
    "        else:\n",
    "            doc.cats[\"recitals\"] = 0\n",
    "            doc.cats[\"title\"] = 0\n",
    "            doc.cats[\"appendix\"] = 1\n",
    "        docs.append(doc)\n",
    "    return (docs)\n",
    "        \n",
    "\n",
    "\n",
    "train_docs = make_docs(train_data)\n",
    "\n"
   ]
  },
  {
   "cell_type": "code",
   "execution_count": 21,
   "id": "successful-hearts",
   "metadata": {},
   "outputs": [],
   "source": [
    "nlp = spacy.load(\"en_core_web_sm\")"
   ]
  },
  {
   "cell_type": "code",
   "execution_count": 17,
   "id": "clinical-smart",
   "metadata": {},
   "outputs": [],
   "source": [
    "validation_split = 0.1\n",
    "\n",
    "# Calculate the number of samples for validation\n",
    "num_validation_samples = int(len(train_data) * validation_split)\n",
    "\n",
    "# Split train_data into train and valid sets\n",
    "valid_data = train_data[:num_validation_samples]\n",
    "train_data = train_data[num_validation_samples:]\n",
    "num_texts = 500\n",
    "\n",
    "train_docs = make_docs(train_data[:num_texts])\n",
    "doc_bin = DocBin(docs=train_docs)\n",
    "doc_bin.to_disk(\"./data/train4.spacy\")\n",
    "\n",
    "valid_docs = make_docs(valid_data[:num_texts])\n",
    "doc_bin = DocBin(docs=valid_docs)\n",
    "doc_bin.to_disk(\"./data/valid4.spacy\")\n"
   ]
  },
  {
   "cell_type": "code",
   "execution_count": null,
   "id": "linear-roulette",
   "metadata": {},
   "outputs": [],
   "source": []
  }
 ],
 "metadata": {
  "kernelspec": {
   "display_name": "Python 3",
   "language": "python",
   "name": "python3"
  },
  "language_info": {
   "codemirror_mode": {
    "name": "ipython",
    "version": 3
   },
   "file_extension": ".py",
   "mimetype": "text/x-python",
   "name": "python",
   "nbconvert_exporter": "python",
   "pygments_lexer": "ipython3",
   "version": "3.11.5"
  }
 },
 "nbformat": 4,
 "nbformat_minor": 5
}
